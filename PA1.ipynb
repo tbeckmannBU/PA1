{
 "cells": [
  {
   "cell_type": "markdown",
   "id": "86f9271d",
   "metadata": {},
   "source": [
    "# Tristan Beckmann\n",
    "\n",
    "# 2023SP Computer Prog for Liberal Arts (CS-150-01)\n",
    "## Assignment 1 - Version 1\n",
    "### Spring 2023"
   ]
  },
  {
   "cell_type": "markdown",
   "id": "32053000",
   "metadata": {},
   "source": [
    "## Getting Started with Markdown"
   ]
  },
  {
   "cell_type": "markdown",
   "id": "27e20738",
   "metadata": {},
   "source": [
    "> You will build your knowledge of Python programming through several programming projects designed to focus your attention on specific programming constructs, as well as a midterm and a final exam designed to measure your acquisition of the conceptual material in this course."
   ]
  },
  {
   "cell_type": "markdown",
   "id": "6173bbe1",
   "metadata": {},
   "source": [
    "* Module 0 - Course Introduction\n",
    "* Module 1 - Variables and Simple Data Types\n",
    "* Module 2 - Introducing Lists, Tuples\n",
    "* Module 3 - if Statements\n",
    "* Module 4 - DIctionaries\n",
    "* Module 5 - While Loops\n",
    "* Module 6 - Functions\n",
    "* Module 7 - Classes\n",
    "* Module 8 - Numpy"
   ]
  },
  {
   "cell_type": "markdown",
   "id": "2b0608a6",
   "metadata": {},
   "source": [
    "1. Assignment 1\n",
    "2. Assignment 2\n",
    "3. Assignment 3\n",
    "4. Assignment 4\n",
    "5. Assignment 5\n",
    "6. Assignment 6\n",
    "7. Assignment 7"
   ]
  },
  {
   "cell_type": "code",
   "execution_count": 1,
   "id": "77eaa703",
   "metadata": {
    "collapsed": true
   },
   "outputs": [
    {
     "ename": "SyntaxError",
     "evalue": "invalid syntax (2789475674.py, line 1)",
     "output_type": "error",
     "traceback": [
      "\u001b[1;36m  File \u001b[1;32m\"C:\\Users\\Tristan\\AppData\\Local\\Temp\\ipykernel_23308\\2789475674.py\"\u001b[1;36m, line \u001b[1;32m1\u001b[0m\n\u001b[1;33m    **This course looks very promising so far.**\u001b[0m\n\u001b[1;37m    ^\u001b[0m\n\u001b[1;31mSyntaxError\u001b[0m\u001b[1;31m:\u001b[0m invalid syntax\n"
     ]
    }
   ],
   "source": []
  },
  {
   "cell_type": "markdown",
   "id": "d3f33e80",
   "metadata": {},
   "source": [
    "**This course looks very promising so far.**"
   ]
  },
  {
   "cell_type": "markdown",
   "id": "05cce173",
   "metadata": {},
   "source": [
    "*I hope to learn a lot about computer programming.*"
   ]
  },
  {
   "cell_type": "markdown",
   "id": "44f1b539",
   "metadata": {},
   "source": [
    "`Hello`, my name is Tristan."
   ]
  },
  {
   "attachments": {},
   "cell_type": "markdown",
   "id": "a9f5a69f",
   "metadata": {},
   "source": [
    "`Github` can be found here <a href=\"https://github.com/tbeckmannBU/PA1?\">this link</a>\n"
   ]
  },
  {
   "cell_type": "markdown",
   "id": "a45c0955",
   "metadata": {},
   "source": [
    "![Penguin](https://encrypted-tbn0.gstatic.com/images?q=tbn:ANd9GcSf-B5AE48pS8NV5qo2lMSeXfb8YysHpuHJaw&usqp=CAU)\n"
   ]
  },
  {
   "cell_type": "code",
   "execution_count": null,
   "id": "d8bc36b4",
   "metadata": {},
   "outputs": [],
   "source": []
  }
 ],
 "metadata": {
  "kernelspec": {
   "display_name": "Python 3 (ipykernel)",
   "language": "python",
   "name": "python3"
  },
  "language_info": {
   "codemirror_mode": {
    "name": "ipython",
    "version": 3
   },
   "file_extension": ".py",
   "mimetype": "text/x-python",
   "name": "python",
   "nbconvert_exporter": "python",
   "pygments_lexer": "ipython3",
   "version": "3.9.13"
  }
 },
 "nbformat": 4,
 "nbformat_minor": 5
}
